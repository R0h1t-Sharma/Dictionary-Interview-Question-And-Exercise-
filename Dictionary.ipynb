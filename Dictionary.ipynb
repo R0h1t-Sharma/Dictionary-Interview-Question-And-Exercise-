{
 "cells": [
  {
   "cell_type": "markdown",
   "id": "a7dc01d4-20b7-471d-abea-036195c6a8e5",
   "metadata": {},
   "source": [
    "### https://interviewprep.org/dictionary-programming-interview-questions/"
   ]
  },
  {
   "cell_type": "markdown",
   "id": "c1d9abbd-8055-4c9b-bbf1-d9a9b09c0edd",
   "metadata": {},
   "source": [
    "### 1-Python | Sort Python Dictionaries by Key or Value"
   ]
  },
  {
   "cell_type": "code",
   "execution_count": 1,
   "id": "2b9ec206-b24c-434a-bce8-41e42c24ec21",
   "metadata": {},
   "outputs": [
    {
     "name": "stdout",
     "output_type": "stream",
     "text": [
      "{'apple': 2, 'banana': 3, 'orange': 5}\n"
     ]
    }
   ],
   "source": [
    "# Example dictionary\n",
    "my_dict = {'banana': 3, 'apple': 2, 'orange': 5}\n",
    "\n",
    "# Sort by keys\n",
    "sorted_by_keys = {key: my_dict[key] for key in sorted(my_dict.keys())}\n",
    "\n",
    "print(sorted_by_keys)\n"
   ]
  },
  {
   "cell_type": "code",
   "execution_count": 2,
   "id": "1982359d-26ba-4a01-ac03-11ece38be81f",
   "metadata": {},
   "outputs": [
    {
     "name": "stdout",
     "output_type": "stream",
     "text": [
      "{'apple': 2, 'banana': 3, 'orange': 5}\n"
     ]
    }
   ],
   "source": [
    "# Example dictionary\n",
    "my_dict = {'banana': 3, 'apple': 2, 'orange': 5}\n",
    "\n",
    "# Sort by values\n",
    "sorted_by_values = {key: value for key, value in sorted(my_dict.items(), key=lambda item: item[1])}\n",
    "\n",
    "print(sorted_by_values)\n"
   ]
  },
  {
   "cell_type": "markdown",
   "id": "517368a4-ff2d-468f-a221-383e2cd4bb2e",
   "metadata": {},
   "source": [
    "### Sorting in Reverse Order: You can sort in descending order by passing the reverse=True parameter to the sorted() function."
   ]
  },
  {
   "cell_type": "code",
   "execution_count": 3,
   "id": "3d93215e-9e60-4828-92bf-ec5f16725c57",
   "metadata": {},
   "outputs": [],
   "source": [
    "sorted_by_keys_desc = {key: my_dict[key] for key in sorted(my_dict.keys(), reverse=True)}\n"
   ]
  },
  {
   "cell_type": "code",
   "execution_count": 5,
   "id": "5d4e9ce2-d965-4885-90ed-dbca6d3ab155",
   "metadata": {},
   "outputs": [
    {
     "data": {
      "text/plain": [
       "{'orange': 5, 'banana': 3, 'apple': 2}"
      ]
     },
     "execution_count": 5,
     "metadata": {},
     "output_type": "execute_result"
    }
   ],
   "source": [
    "sorted_by_keys_desc"
   ]
  },
  {
   "cell_type": "code",
   "execution_count": 4,
   "id": "3b406bee-ab65-4372-92a9-f2187409e4ad",
   "metadata": {},
   "outputs": [],
   "source": [
    "sorted_by_values_desc = {key: value for key, value in sorted(my_dict.items(), key=lambda item: item[1], reverse=True)}\n"
   ]
  },
  {
   "cell_type": "code",
   "execution_count": 6,
   "id": "050163ac-d50a-48ce-be0d-e81993819c80",
   "metadata": {},
   "outputs": [
    {
     "data": {
      "text/plain": [
       "{'orange': 5, 'banana': 3, 'apple': 2}"
      ]
     },
     "execution_count": 6,
     "metadata": {},
     "output_type": "execute_result"
    }
   ],
   "source": [
    "sorted_by_values_desc"
   ]
  },
  {
   "cell_type": "markdown",
   "id": "6e978693-6534-4333-85f3-a11505139fef",
   "metadata": {},
   "source": [
    "### 2 -Handling missing keys in Python dictionaries"
   ]
  },
  {
   "cell_type": "markdown",
   "id": "e2e51325-96ef-4ca5-820f-98789031ad57",
   "metadata": {},
   "source": [
    "### 1. Using dict.get()"
   ]
  },
  {
   "cell_type": "code",
   "execution_count": 7,
   "id": "ff142c91-bed3-4f23-a21d-f5060d2acb48",
   "metadata": {},
   "outputs": [
    {
     "name": "stdout",
     "output_type": "stream",
     "text": [
      "2 0\n"
     ]
    }
   ],
   "source": [
    "my_dict = {'apple': 2, 'banana': 3}\n",
    "\n",
    "# Accessing a key that exists\n",
    "apple_count = my_dict.get('apple', 0)  # returns 2\n",
    "\n",
    "# Accessing a key that does not exist\n",
    "orange_count = my_dict.get('orange', 0)  # returns 0 (default value)\n",
    "\n",
    "print(apple_count, orange_count)\n"
   ]
  },
  {
   "cell_type": "markdown",
   "id": "dc5eab5f-5719-45cd-85da-8d06df095661",
   "metadata": {},
   "source": [
    "### 2. Using in Keyword"
   ]
  },
  {
   "cell_type": "code",
   "execution_count": 8,
   "id": "bf9c5e57-7de7-44b5-a488-e9b7ac246ee3",
   "metadata": {},
   "outputs": [
    {
     "name": "stdout",
     "output_type": "stream",
     "text": [
      "3\n"
     ]
    }
   ],
   "source": [
    "if 'banana' in my_dict:\n",
    "    print(my_dict['banana'])\n",
    "else:\n",
    "    print(\"Key 'banana' not found.\")\n"
   ]
  },
  {
   "cell_type": "markdown",
   "id": "5c3d6471-3d02-40b9-84b5-8ef88160abe0",
   "metadata": {},
   "source": [
    "### Using setdefault()"
   ]
  },
  {
   "cell_type": "code",
   "execution_count": 9,
   "id": "d51c638d-dfc8-4a5a-926b-7c0c94157610",
   "metadata": {},
   "outputs": [
    {
     "name": "stdout",
     "output_type": "stream",
     "text": [
      "{'apple': 2, 'banana': 3, 'orange': 0}\n"
     ]
    }
   ],
   "source": [
    "my_dict = {'apple': 2, 'banana': 3}\n",
    "\n",
    "# This will set 'orange' to 0 if it doesn't exist\n",
    "orange_count = my_dict.setdefault('orange', 0)\n",
    "\n",
    "print(my_dict)  # {'apple': 2, 'banana': 3, 'orange': 0}\n"
   ]
  },
  {
   "cell_type": "markdown",
   "id": "ddec680a-a9a6-4454-ae5e-0bd53973dc5e",
   "metadata": {},
   "source": [
    "### 3 -Python dictionary with keys having multiple inputs"
   ]
  },
  {
   "cell_type": "markdown",
   "id": "8f9619c2-27b9-41dc-99ff-a3249aedf4ee",
   "metadata": {},
   "source": [
    "### Using Lists as Values"
   ]
  },
  {
   "cell_type": "code",
   "execution_count": 10,
   "id": "f752753c-7fb1-42b9-89af-da1d3768e6c7",
   "metadata": {},
   "outputs": [
    {
     "name": "stdout",
     "output_type": "stream",
     "text": [
      "{'fruits': ['apple', 'banana', 'orange'], 'vegetables': ['carrot', 'lettuce']}\n"
     ]
    }
   ],
   "source": [
    "# Example dictionary with lists as values\n",
    "multi_value_dict = {\n",
    "    'fruits': ['apple', 'banana'],\n",
    "    'vegetables': ['carrot', 'lettuce']\n",
    "}\n",
    "\n",
    "# Adding more values\n",
    "multi_value_dict['fruits'].append('orange')\n",
    "\n",
    "print(multi_value_dict)\n"
   ]
  },
  {
   "cell_type": "markdown",
   "id": "5311e2f1-3e0a-4d97-82a8-0f8990ab8b2a",
   "metadata": {},
   "source": [
    "### 4. Using a List of Tuples"
   ]
  },
  {
   "cell_type": "code",
   "execution_count": 11,
   "id": "b030a586-b819-4061-be06-c47915b0c39e",
   "metadata": {},
   "outputs": [
    {
     "name": "stdout",
     "output_type": "stream",
     "text": [
      "defaultdict(<class 'list'>, {'fruits': ['apple', 'banana'], 'vegetables': ['carrot']})\n"
     ]
    }
   ],
   "source": [
    "# Example of a list of tuples\n",
    "multi_value_list = [\n",
    "    ('fruits', 'apple'),\n",
    "    ('fruits', 'banana'),\n",
    "    ('vegetables', 'carrot')\n",
    "]\n",
    "\n",
    "# Transforming to a dictionary\n",
    "from collections import defaultdict\n",
    "\n",
    "multi_value_dict = defaultdict(list)\n",
    "for key, value in multi_value_list:\n",
    "    multi_value_dict[key].append(value)\n",
    "\n",
    "print(multi_value_dict)\n"
   ]
  },
  {
   "cell_type": "markdown",
   "id": "d1cafbd0-ea8a-4661-a73a-3f61c10ed37d",
   "metadata": {},
   "source": [
    "### 4 -Merging Two Dictionaries in Python"
   ]
  },
  {
   "cell_type": "markdown",
   "id": "e7ad59c1-c0a9-4a80-970f-405d1232ead5",
   "metadata": {},
   "source": [
    "### 1. Using the update() Method"
   ]
  },
  {
   "cell_type": "code",
   "execution_count": 12,
   "id": "c908b955-5ba6-423b-ba82-68b728d4a8a7",
   "metadata": {},
   "outputs": [
    {
     "name": "stdout",
     "output_type": "stream",
     "text": [
      "{'a': 1, 'b': 3, 'c': 4}\n"
     ]
    }
   ],
   "source": [
    "dict1 = {'a': 1, 'b': 2}\n",
    "dict2 = {'b': 3, 'c': 4}\n",
    "\n",
    "# Merging using update()\n",
    "dict1.update(dict2)\n",
    "\n",
    "print(dict1)\n"
   ]
  },
  {
   "cell_type": "markdown",
   "id": "14900a13-09c9-4506-99e3-3e08ea8bb508",
   "metadata": {},
   "source": [
    "### 2 -Using the | Operator (Python 3.9+)"
   ]
  },
  {
   "cell_type": "code",
   "execution_count": 13,
   "id": "7156a0f5-10eb-4b57-8d96-4241ef5a54ad",
   "metadata": {},
   "outputs": [
    {
     "name": "stdout",
     "output_type": "stream",
     "text": [
      "{'a': 1, 'b': 3, 'c': 4}\n"
     ]
    }
   ],
   "source": [
    "dict1 = {'a': 1, 'b': 2}\n",
    "dict2 = {'b': 3, 'c': 4}\n",
    "\n",
    "# Merging using the | operator\n",
    "merged_dict = dict1 | dict2\n",
    "\n",
    "print(merged_dict)\n"
   ]
  },
  {
   "cell_type": "markdown",
   "id": "61330900-4b23-463e-bc76-2c2b2405f8d9",
   "metadata": {},
   "source": [
    "##### 5-Python – Insertion at the beginning in OrderedDict"
   ]
  },
  {
   "cell_type": "code",
   "execution_count": 14,
   "id": "7ce0bdf2-bf11-4781-ab0f-caa0f0f1183d",
   "metadata": {},
   "outputs": [
    {
     "name": "stdout",
     "output_type": "stream",
     "text": [
      "OrderedDict([('new_key', 0), ('a', 1), ('b', 2), ('c', 3)])\n"
     ]
    }
   ],
   "source": [
    "from collections import OrderedDict\n",
    "\n",
    "od = OrderedDict(a=1, b=2, c=3)\n",
    "\n",
    "# Insert at the beginning\n",
    "od['new_key'] = 0\n",
    "od.move_to_end('new_key', last=False)\n",
    "\n",
    "print(od)\n"
   ]
  },
  {
   "cell_type": "markdown",
   "id": "42a8b6df-601f-459e-b709-779fd712a4af",
   "metadata": {},
   "source": [
    "### 6-Find common elements in three sorted arrays by dictionary intersection"
   ]
  },
  {
   "cell_type": "code",
   "execution_count": 15,
   "id": "04148ec4-9d00-4069-92d7-8feabfbbc3d1",
   "metadata": {},
   "outputs": [
    {
     "name": "stdout",
     "output_type": "stream",
     "text": [
      "[3, 5]\n"
     ]
    }
   ],
   "source": [
    "from collections import Counter\n",
    "\n",
    "def common_elements(arr1, arr2, arr3):\n",
    "    return list((Counter(arr1) & Counter(arr2) & Counter(arr3)).keys())\n",
    "\n",
    "# Example usage\n",
    "result = common_elements([1, 2, 3, 4, 5], [2, 3, 5, 6], [3, 5, 7, 8])\n",
    "print(result)  # Output: [3, 5]\n"
   ]
  },
  {
   "cell_type": "markdown",
   "id": "325c84d4-f660-4243-be18-a0f0e5915c42",
   "metadata": {},
   "source": [
    "### 7 -Python Program to Create Dictionary from an Object"
   ]
  },
  {
   "cell_type": "code",
   "execution_count": 16,
   "id": "00410752-f33b-4033-a2e1-dc8ff04e2f60",
   "metadata": {},
   "outputs": [
    {
     "name": "stdout",
     "output_type": "stream",
     "text": [
      "{'name': 'Alice', 'age': 30}\n"
     ]
    }
   ],
   "source": [
    "class Person:\n",
    "    def __init__(self, name, age):\n",
    "        self.name = name\n",
    "        self.age = age\n",
    "\n",
    "# Create an instance of the Person class\n",
    "person = Person(\"Alice\", 30)\n",
    "\n",
    "# Create a dictionary from the object\n",
    "person_dict = person.__dict__\n",
    "\n",
    "# Print the resulting dictionary\n",
    "print(person_dict)  # Output: {'name': 'Alice', 'age': 30}\n"
   ]
  },
  {
   "cell_type": "markdown",
   "id": "3bb30d74-9bbc-4d95-9cd5-84f31d071cee",
   "metadata": {},
   "source": [
    "### 8-Python Program to Check if a Key Exists in a Dictionary or Not"
   ]
  },
  {
   "cell_type": "code",
   "execution_count": 17,
   "id": "6a8f8d3c-a738-49ff-99ca-26f9912af8d3",
   "metadata": {},
   "outputs": [
    {
     "name": "stdout",
     "output_type": "stream",
     "text": [
      "Key 'b' exists in the dictionary.\n",
      "Key 'd' does not exist in the dictionary.\n"
     ]
    }
   ],
   "source": [
    "# Define a sample dictionary\n",
    "my_dict = {'a': 1, 'b': 2, 'c': 3}\n",
    "\n",
    "# Function to check if a key exists\n",
    "def check_key_exists(key):\n",
    "    if key in my_dict:\n",
    "        print(f\"Key '{key}' exists in the dictionary.\")\n",
    "    else:\n",
    "        print(f\"Key '{key}' does not exist in the dictionary.\")\n",
    "\n",
    "# Example usage\n",
    "check_key_exists('b')  # Output: Key 'b' exists in the dictionary.\n",
    "check_key_exists('d')  # Output: Key 'd' does not exist in the dictionary.\n"
   ]
  },
  {
   "cell_type": "markdown",
   "id": "ec55e29f-8b62-4d39-a4d7-5e8ca7aa09a3",
   "metadata": {},
   "source": [
    "### 9 -Python Program to Add a Key-Value Pair to the Dictionary"
   ]
  },
  {
   "cell_type": "code",
   "execution_count": 18,
   "id": "9249d309-af1d-42f4-8671-b58f56090ace",
   "metadata": {},
   "outputs": [
    {
     "name": "stdin",
     "output_type": "stream",
     "text": [
      "Enter a key:  rohit\n",
      "Enter a value:  24\n"
     ]
    },
    {
     "name": "stdout",
     "output_type": "stream",
     "text": [
      "Updated Dictionary: {'rohit': '24'}\n"
     ]
    }
   ],
   "source": [
    "# Step 1: Initialize an empty dictionary\n",
    "my_dict = {}\n",
    "\n",
    "# Step 2: Take a key-value pair from the user\n",
    "key = input(\"Enter a key: \")\n",
    "value = input(\"Enter a value: \")\n",
    "\n",
    "# Step 3: Add the key-value pair to the dictionary\n",
    "my_dict[key] = value\n",
    "\n",
    "# Step 4: Print the final dictionary\n",
    "print(\"Updated Dictionary:\", my_dict)\n",
    "\n",
    "# Step 5: Exit\n"
   ]
  },
  {
   "cell_type": "markdown",
   "id": "a0e085a7-15d6-47c1-a8f8-b0966de25318",
   "metadata": {},
   "source": [
    "### 10 -Python Program to Find the Sum of All the Items in a Dictionary"
   ]
  },
  {
   "cell_type": "code",
   "execution_count": 19,
   "id": "5d7cf911-b928-4911-b3a1-eec807a2491b",
   "metadata": {},
   "outputs": [
    {
     "name": "stdout",
     "output_type": "stream",
     "text": [
      "Sum of all items in the dictionary: 60\n"
     ]
    }
   ],
   "source": [
    "# Initialize a sample dictionary\n",
    "my_dict = {'a': 10, 'b': 20, 'c': 30}\n",
    "\n",
    "# Calculate the sum of all values in the dictionary\n",
    "total_sum = sum(my_dict.values())\n",
    "\n",
    "# Print the total sum\n",
    "print(\"Sum of all items in the dictionary:\", total_sum)\n"
   ]
  },
  {
   "cell_type": "markdown",
   "id": "48815ec9-1120-43d4-9479-5e5c7b3d0868",
   "metadata": {},
   "source": [
    "### 11 -Python Program to Multiply All the Items in a Dictionary"
   ]
  },
  {
   "cell_type": "code",
   "execution_count": 20,
   "id": "6871e09b-e1aa-412b-aa3b-c0845d55aa21",
   "metadata": {},
   "outputs": [
    {
     "name": "stdout",
     "output_type": "stream",
     "text": [
      "Product of all items in the dictionary: 24\n"
     ]
    }
   ],
   "source": [
    "# Initialize a sample dictionary\n",
    "my_dict = {'a': 2, 'b': 3, 'c': 4}\n",
    "\n",
    "# Initialize the product variable\n",
    "product = 1\n",
    "\n",
    "# Multiply all values in the dictionary\n",
    "for value in my_dict.values():\n",
    "    product *= value\n",
    "\n",
    "# Print the total product\n",
    "print(\"Product of all items in the dictionary:\", product)\n"
   ]
  },
  {
   "cell_type": "markdown",
   "id": "889ff4d2-3a5b-4f20-9082-f9e191de6efe",
   "metadata": {},
   "source": [
    "### 12 -Python Program to Remove a Key from a Dictionary"
   ]
  },
  {
   "cell_type": "code",
   "execution_count": 21,
   "id": "765ecbb0-dbda-43e0-b9d3-5e4a0fb7bbd0",
   "metadata": {},
   "outputs": [
    {
     "name": "stdout",
     "output_type": "stream",
     "text": [
      "Updated Dictionary: {'a': 1, 'c': 3}\n"
     ]
    }
   ],
   "source": [
    "my_dict = {'a': 1, 'b': 2, 'c': 3}\n",
    "\n",
    "key_to_remove = 'b'\n",
    "my_dict.pop(key_to_remove, None)  # Removes key if it exists\n",
    "\n",
    "print(\"Updated Dictionary:\", my_dict)  # Output: {'a': 1, 'c': 3}\n"
   ]
  },
  {
   "cell_type": "markdown",
   "id": "4639d71d-fdfb-418c-9be7-7f719b6f7025",
   "metadata": {},
   "source": [
    "### 13 -Python Program to Map Two Lists into a Dictionary"
   ]
  },
  {
   "cell_type": "code",
   "execution_count": 22,
   "id": "819788aa-6cbe-4bcf-83e9-50121bc26b6f",
   "metadata": {},
   "outputs": [
    {
     "name": "stdout",
     "output_type": "stream",
     "text": [
      "Mapped Dictionary: {'a': 1, 'b': 2, 'c': 3}\n"
     ]
    }
   ],
   "source": [
    "# Initialize two lists\n",
    "keys = ['a', 'b', 'c']\n",
    "values = [1, 2, 3]\n",
    "\n",
    "# Map the two lists into a dictionary\n",
    "mapped_dict = dict(zip(keys, values))\n",
    "\n",
    "# Print the resulting dictionary\n",
    "print(\"Mapped Dictionary:\", mapped_dict)\n"
   ]
  },
  {
   "cell_type": "markdown",
   "id": "440de76c-308e-45d9-819b-8cc935662565",
   "metadata": {},
   "source": [
    "### 14 -Python Program to Count the Frequency of Each Word in a String using Dictionary\n"
   ]
  },
  {
   "cell_type": "code",
   "execution_count": 23,
   "id": "9757ea17-8b92-4d4c-89f0-5bf1e553cd09",
   "metadata": {},
   "outputs": [
    {
     "name": "stdout",
     "output_type": "stream",
     "text": [
      "Word Frequencies: {'hello': 2, 'world': 1}\n"
     ]
    }
   ],
   "source": [
    "# Input string\n",
    "input_string = \"hello world hello\"\n",
    "\n",
    "# Split the string into words\n",
    "words = input_string.split()\n",
    "\n",
    "# Initialize a dictionary to store word frequencies\n",
    "frequency = {}\n",
    "\n",
    "# Count the frequency of each word\n",
    "for word in words:\n",
    "    frequency[word] = frequency.get(word, 0) + 1\n",
    "\n",
    "# Print the word frequencies\n",
    "print(\"Word Frequencies:\", frequency)\n"
   ]
  },
  {
   "cell_type": "markdown",
   "id": "0e088b95-bcbe-4f6d-b6e3-48b0843c7437",
   "metadata": {},
   "source": [
    "### 15 -Python – Extract Unique values dictionary values"
   ]
  },
  {
   "cell_type": "code",
   "execution_count": 24,
   "id": "264412b8-3ad8-4261-84ae-26ef1b1f360d",
   "metadata": {},
   "outputs": [
    {
     "name": "stdout",
     "output_type": "stream",
     "text": [
      "Unique values: {1, 2, 3}\n"
     ]
    }
   ],
   "source": [
    "# Sample dictionary\n",
    "my_dict = {'a': 1, 'b': 2, 'c': 1, 'd': 3}\n",
    "\n",
    "# Extract unique values\n",
    "unique_values = set(my_dict.values())\n",
    "\n",
    "# Print the unique values\n",
    "print(\"Unique values:\", unique_values)  # Output: {1, 2, 3}\n"
   ]
  },
  {
   "cell_type": "markdown",
   "id": "d6280504-847b-4250-a3e1-a91a7b740767",
   "metadata": {},
   "source": [
    "### 16 -Explain the concept of a dictionary in programming. What are some common uses for a dictionary?"
   ]
  },
  {
   "cell_type": "markdown",
   "id": "c24ee310-672a-48a6-b7ef-794431903a65",
   "metadata": {},
   "source": [
    "### Dictionary in Programming\n",
    "\n",
    "A **dictionary** is a data structure that stores data in key-value pairs. \n",
    "\n",
    "#### Key Features:\n",
    "- **Key-Value Pair**: Each key is unique and maps to a value.\n",
    "- **Unordered**: No guaranteed order of elements.\n",
    "- **Mutable**: Can be modified after creation.\n",
    "- **Dynamic**: Size can change as needed.\n",
    "\n",
    "#### Common Uses:\n",
    "1. **Lookup Tables**: Fast retrieval of values by keys.\n",
    "2. **Data Storage**: Store structured data (e.g., user profiles).\n",
    "3. **Counting Frequencies**: Count occurrences of items.\n",
    "4. **Configuration Settings**: Store application parameters.\n",
    "5. **Caching**: Store results of expensive computations.\n",
    "6. **Graph Representation**: Model relationships in graphs.\n",
    "7. **Group Data**: Organize data by categories.\n",
    "\n",
    "Dictionaries are efficient for modeling complex relationships with simple key-value associations."
   ]
  },
  {
   "cell_type": "markdown",
   "id": "6878ab9c-7d38-45dc-9e1e-ac5e9aaf6dbc",
   "metadata": {},
   "source": [
    "### 17 -Can a dictionary contain duplicate keys? What happens when you try to insert a duplicate key?"
   ]
  },
  {
   "cell_type": "markdown",
   "id": "e2f379a7-18a9-419a-a253-9583e2250ec9",
   "metadata": {},
   "source": [
    "#### No, a dictionary cannot contain duplicate keys. Each key in a dictionary must be unique. If you try to insert a duplicate key, the new value will overwrite the existing value associated with that key.\n",
    "\n",
    "### Example in Python:\n",
    "```python\n",
    "my_dict = {'a': 1, 'b': 2}\n",
    "\n",
    "# Inserting a duplicate key 'a'\n",
    "my_dict['a'] = 3\n",
    "\n",
    "print(my_dict)  # Output: {'a': 3, 'b': 2}\n",
    "```\n",
    "\n",
    "### Explanation:\n",
    "- Initially, the key `'a'` has a value of `1`.\n",
    "- When we insert the duplicate key `'a'` with a value of `3`, the existing value `1` is replaced.\n",
    "- The final dictionary contains the updated value for key `'a'`, resulting in `{'a': 3, 'b': 2}`.\n",
    "\n",
    "This behavior ensures that each key in a dictionary remains unique, making key-based retrieval efficient."
   ]
  },
  {
   "cell_type": "markdown",
   "id": "a92ad6f1-52c9-44ba-a5d1-9c007d8e25df",
   "metadata": {},
   "source": [
    "### 18 -How would you check if a key exists in a dictionary without using a try/except block?"
   ]
  },
  {
   "cell_type": "code",
   "execution_count": 25,
   "id": "a019c107-17a0-4692-86ac-1821559b593e",
   "metadata": {},
   "outputs": [
    {
     "name": "stdout",
     "output_type": "stream",
     "text": [
      "Key does not exist.\n"
     ]
    }
   ],
   "source": [
    "if key in my_dict:\n",
    "    print(\"Key exists.\")\n",
    "else:\n",
    "    print(\"Key does not exist.\")\n"
   ]
  },
  {
   "cell_type": "markdown",
   "id": "9e19ad96-dc4c-4275-bc1b-adf4a9e4598c",
   "metadata": {},
   "source": [
    "### 19 -How do you add and remove items in a dictionary? Can you provide an example?"
   ]
  },
  {
   "cell_type": "code",
   "execution_count": 26,
   "id": "e98cdc11-e777-41d8-81dc-fe3ef3540c71",
   "metadata": {},
   "outputs": [
    {
     "name": "stdout",
     "output_type": "stream",
     "text": [
      "{'a': 1, 'b': 2, 'c': 3}\n"
     ]
    }
   ],
   "source": [
    "my_dict = {'a': 1, 'b': 2}\n",
    "\n",
    "# Adding a new key-value pair\n",
    "my_dict['c'] = 3\n",
    "\n",
    "print(my_dict)  # Output: {'a': 1, 'b': 2, 'c': 3}\n"
   ]
  },
  {
   "cell_type": "code",
   "execution_count": 27,
   "id": "29eabd73-733f-4adc-9166-9d9012280cb1",
   "metadata": {},
   "outputs": [
    {
     "name": "stdout",
     "output_type": "stream",
     "text": [
      "{'a': 1, 'c': 3}\n",
      "Removed value: 2\n",
      "{'c': 3}\n"
     ]
    }
   ],
   "source": [
    "# Removing a key-value pair using pop()\n",
    "removed_value = my_dict.pop('b')  # Removes 'b' and returns its value\n",
    "\n",
    "print(my_dict)  # Output: {'a': 1, 'c': 3}\n",
    "print(\"Removed value:\", removed_value)  # Output: Removed value: 2\n",
    "\n",
    "# Removing a key-value pair using del\n",
    "del my_dict['a']\n",
    "\n",
    "print(my_dict)  # Output: {'c': 3}\n"
   ]
  },
  {
   "cell_type": "code",
   "execution_count": 28,
   "id": "656fa5c9-b5c8-4a53-92b1-ee717db398f9",
   "metadata": {},
   "outputs": [
    {
     "name": "stdout",
     "output_type": "stream",
     "text": [
      "{'a': 1, 'c': 3}\n"
     ]
    }
   ],
   "source": [
    "# Initialize dictionary\n",
    "my_dict = {'a': 1, 'b': 2}\n",
    "\n",
    "# Add item\n",
    "my_dict['c'] = 3\n",
    "\n",
    "# Remove item using del\n",
    "del my_dict['b']\n",
    "\n",
    "print(my_dict)  # Output: {'a': 1, 'c': 3}\n"
   ]
  },
  {
   "cell_type": "markdown",
   "id": "0b16aada-4ad8-407a-92f4-6e96b8db45b9",
   "metadata": {},
   "source": [
    "### 20 -Describe how to iterate over all key-value pairs in a dictionary."
   ]
  },
  {
   "cell_type": "code",
   "execution_count": 29,
   "id": "21956a57-6419-4935-9f17-5e325b852d84",
   "metadata": {},
   "outputs": [
    {
     "name": "stdout",
     "output_type": "stream",
     "text": [
      "Key: a, Value: 1\n",
      "Key: b, Value: 2\n",
      "Key: c, Value: 3\n"
     ]
    }
   ],
   "source": [
    "my_dict = {'a': 1, 'b': 2, 'c': 3}\n",
    "\n",
    "# Iterate over key-value pairs\n",
    "for key, value in my_dict.items():\n",
    "    print(f\"Key: {key}, Value: {value}\")\n"
   ]
  },
  {
   "cell_type": "markdown",
   "id": "6bd84510-f38c-45e7-8506-703cc9b3d173",
   "metadata": {},
   "source": [
    "### 21 -Can keys in a Python dictionary be mutable? Why or why not?"
   ]
  },
  {
   "cell_type": "markdown",
   "id": "fdd23012-6d9c-45e8-aaa6-51b8696d7251",
   "metadata": {},
   "source": [
    "#### No, keys in a Python dictionary cannot be mutable. This is because dictionary keys must be **hashable**, which means they must have a fixed hash value that does not change during their lifetime. Mutable objects, such as lists or dictionaries, can change their content, leading to a change in their hash value, which would disrupt the integrity of the dictionary.\n",
    "\n",
    "### Reasons:\n",
    "1. **Hashability**: Keys must implement the `__hash__()` method and be immutable to ensure consistent hash values.\n",
    "2. **Uniqueness**: If a key's value changes, it could potentially create conflicts and make it impossible to retrieve the associated value.\n",
    "\n",
    "### Example:\n",
    "```python\n",
    "my_dict = {}\n",
    "# This works because tuples are immutable\n",
    "my_dict[(1, 2)] = \"value\"\n",
    "\n",
    "# This raises a TypeError because lists are mutable\n",
    "# my_dict[[1, 2]] = \"value\"  # Uncommenting this will cause an error\n",
    "```\n",
    "\n",
    "In summary, only immutable types (like strings, tuples, or numbers) can be used as dictionary keys."
   ]
  },
  {
   "cell_type": "code",
   "execution_count": 31,
   "id": "5a2a1bc1-ead8-4f4f-8ec5-c721aa9df75a",
   "metadata": {},
   "outputs": [
    {
     "name": "stdout",
     "output_type": "stream",
     "text": [
      "{(1, 2): 'value for (1, 2)'}\n",
      "Error: unhashable type: 'list'\n"
     ]
    }
   ],
   "source": [
    "# Using an immutable key (tuple)\n",
    "my_dict = {}\n",
    "my_dict[(1, 2)] = \"value for (1, 2)\"\n",
    "print(my_dict)  # Output: {(1, 2): 'value for (1, 2)'}\n",
    "\n",
    "# Attempting to use a mutable key (list)\n",
    "try:\n",
    "    my_dict[[1, 2]] = \"value for [1, 2]\"  # This will raise an error\n",
    "except TypeError as e:\n",
    "    print(\"Error:\", e)  # Output: Error: unhashable type: 'list'\n"
   ]
  },
  {
   "cell_type": "markdown",
   "id": "3a373d3f-a892-4243-8825-d83aa7fcc77d",
   "metadata": {},
   "source": [
    "### 22 - What types can be used as keys in a dictionary, in languages like Python"
   ]
  },
  {
   "cell_type": "markdown",
   "id": "f542a175-41d4-4f34-ab8a-66106606b438",
   "metadata": {},
   "source": [
    "#### ### Example of Dictionary Keys in Python\n",
    "\n",
    "```python\n",
    "# Create a dictionary\n",
    "my_dict = {}\n",
    "\n",
    "# Allowed keys\n",
    "my_dict['name'] = \"Alice\"               # String\n",
    "my_dict[42] = \"Answer\"                  # Integer\n",
    "my_dict[(1, 2)] = \"Tuple\"               # Tuple\n",
    "my_dict[frozenset([1, 2])] = \"Frozenset\"  # Frozenset\n",
    "\n",
    "print(my_dict)\n",
    "\n",
    "# Not allowed keys (will raise errors)\n",
    "try:\n",
    "    my_dict[[1, 2]] = \"List\"           # List\n",
    "except TypeError as e:\n",
    "    print(\"Error:\", e)                 # Output: Error: unhashable type: 'list'\n",
    "```\n",
    "\n",
    "### Breakdown:\n",
    "1. **Allowed Keys**:\n",
    "   - **String**: `'name'` → maps to `\"Alice\"`.\n",
    "   - **Integer**: `42` → maps to `\"Answer\"`.\n",
    "   - **Tuple**: `(1, 2)` → maps to `\"Tuple\"`.\n",
    "   - **Frozenset**: `frozenset([1, 2])` → maps to `\"Frozenset\"`.\n",
    "\n",
    "2. **Output**: The dictionary prints as:\n",
    "   ```\n",
    "   {'name': 'Alice', 42: 'Answer', (1, 2): 'Tuple', frozenset({1, 2}): 'Frozenset'}\n",
    "   ```\n",
    "\n",
    "3. **Not Allowed Keys**: \n",
    "   - Attempting to use a **list** raises a `TypeError` because lists are mutable.\n",
    "\n",
    "### Summary:\n",
    "This example shows valid and invalid dictionary keys, highlighting that only immutable types can be used as keys in a Python dictionary."
   ]
  },
  {
   "cell_type": "markdown",
   "id": "973d9972-54dc-4e32-8e79-5dd851e51692",
   "metadata": {},
   "source": [
    "### 23 -Explain the differences and similarities between a dictionary and a list."
   ]
  },
  {
   "cell_type": "markdown",
   "id": "5fe6baf8-fa45-4daa-8ba8-f35c9b42eccf",
   "metadata": {},
   "source": [
    "### Differences Between a Dictionary and a List\n",
    "\n",
    "1. **Structure**:\n",
    "   - **Dictionary**: Stores data in key-value pairs. Each key is unique and maps to a value.\n",
    "   - **List**: Stores ordered collections of items. Items are accessed by their index.\n",
    "\n",
    "2. **Access Method**:\n",
    "   - **Dictionary**: Accessed via keys (e.g., `my_dict['key']`).\n",
    "   - **List**: Accessed via indices (e.g., `my_list[0]`).\n",
    "\n",
    "3. **Order**:\n",
    "   - **Dictionary**: Unordered (though recent versions of Python maintain insertion order).\n",
    "   - **List**: Ordered; items retain the sequence in which they are added.\n",
    "\n",
    "4. **Mutability**:\n",
    "   - Both dictionaries and lists are mutable, meaning you can modify them after creation (add, remove, or change items).\n",
    "\n",
    "5. **Use Cases**:\n",
    "   - **Dictionary**: Best for associative arrays where you need fast lookups based on unique keys (e.g., storing user data by ID).\n",
    "   - **List**: Best for collections of items where order matters (e.g., a list of names or numbers).\n",
    "\n",
    "### Similarities Between a Dictionary and a List\n",
    "\n",
    "1. **Mutability**: Both can be modified after they are created. You can add, update, or remove elements.\n",
    "\n",
    "2. **Dynamic Sizing**: Both can grow and shrink in size; you can add or remove elements without predefining the size.\n",
    "\n",
    "3. **Iterability**: Both can be iterated over in loops. You can access all items in a list and all key-value pairs in a dictionary.\n",
    "\n",
    "4. **Data Storage**: Both are used to store data, although in different formats (sequential vs. key-value).\n",
    "\n",
    "### Summary\n",
    "\n",
    "- **Dictionaries** are ideal for situations where you need to associate unique keys with values, allowing for efficient lookups.\n",
    "- **Lists** are better suited for maintaining an ordered collection of items where the position matters.\n",
    "\n",
    "Understanding these differences and similarities helps in choosing the right data structure based on the specific needs of a program."
   ]
  },
  {
   "cell_type": "markdown",
   "id": "646be217-dc28-4ea5-8953-9e66f30b8bab",
   "metadata": {},
   "source": [
    "### 24 -What is the difference between dictionary comprehension and list comprehension?"
   ]
  },
  {
   "cell_type": "markdown",
   "id": "d44acd45-f00a-4e3b-a6ee-ca0096405aa3",
   "metadata": {},
   "source": [
    "### Dictionary Comprehension vs. List Comprehension\n",
    "\n",
    "Both dictionary comprehension and list comprehension are concise ways to create dictionaries and lists, respectively, from existing iterables. However, they have distinct differences in terms of syntax and output.\n",
    "\n",
    "### Syntax\n",
    "\n",
    "1. **Dictionary Comprehension**:\n",
    "   - Creates a dictionary from an iterable.\n",
    "   - Syntax: `{key_expression: value_expression for item in iterable if condition}`\n",
    "   - Example:\n",
    "     ```python\n",
    "     my_dict = {x: x**2 for x in range(5)}\n",
    "     # Output: {0: 0, 1: 1, 2: 4, 3: 9, 4: 16}\n",
    "     ```\n",
    "\n",
    "2. **List Comprehension**:\n",
    "   - Creates a list from an iterable.\n",
    "   - Syntax: `[expression for item in iterable if condition]`\n",
    "   - Example:\n",
    "     ```python\n",
    "     my_list = [x**2 for x in range(5)]\n",
    "     # Output: [0, 1, 4, 9, 16]\n",
    "     ```\n",
    "\n",
    "### Output Type\n",
    "\n",
    "- **Dictionary Comprehension**: Produces a dictionary with key-value pairs.\n",
    "- **List Comprehension**: Produces a list of items.\n",
    "\n",
    "### Use Cases\n",
    "\n",
    "- **Dictionary Comprehension**: Useful when you want to create a mapping between keys and values (e.g., squaring numbers with their original value as keys).\n",
    "- **List Comprehension**: Useful for generating lists of items based on an iterable (e.g., squaring numbers).\n",
    "\n",
    "### Conditions\n",
    "\n",
    "Both comprehensions can include conditions to filter items:\n",
    "\n",
    "- **Example with Dictionary Comprehension**:\n",
    "  ```python\n",
    "  my_dict = {x: x**2 for x in range(5) if x % 2 == 0}\n",
    "  # Output: {0: 0, 2: 4, 4: 16}\n",
    "  ```\n",
    "\n",
    "- **Example with List Comprehension**:\n",
    "  ```python\n",
    "  my_list = [x**2 for x in range(5) if x % 2 == 0]\n",
    "  # Output: [0, 4, 16]\n",
    "  ```\n",
    "\n",
    "### Summary\n",
    "\n",
    "- **Purpose**: Dictionary comprehension creates dictionaries, while list comprehension creates lists.\n",
    "- **Syntax**: Dictionary comprehension uses `{}` with key-value pairs; list comprehension uses `[]` for a sequence of items.\n",
    "- **Output**: Dictionary comprehension results in key-value pairs; list comprehension results in a flat list."
   ]
  },
  {
   "cell_type": "markdown",
   "id": "78cfab90-be50-4ba7-8233-f0f166d6b4a4",
   "metadata": {},
   "source": [
    "### 25 -. What is the difference between shallow copy and deep copy in terms of dictionary?"
   ]
  },
  {
   "cell_type": "markdown",
   "id": "be3e815b-dad8-4a58-bfa7-0354ba2aed1f",
   "metadata": {},
   "source": [
    "#### The difference between shallow copy and deep copy in the context of dictionaries pertains to how they handle the copying of nested objects (i.e., dictionaries containing other dictionaries, lists, or other mutable objects).\n",
    "\n",
    "### Shallow Copy\n",
    "\n",
    "- **Definition**: A shallow copy creates a new dictionary but does not create copies of the nested objects within it. Instead, it only copies references to these objects.\n",
    "  \n",
    "- **Behavior**: Changes made to nested objects in the original dictionary will reflect in the shallow copy since both the original and the copy reference the same nested objects.\n",
    "\n",
    "- **How to Create**: In Python, you can create a shallow copy of a dictionary using the `copy()` method or the `dict()` constructor.\n",
    "\n",
    "#### Example:\n",
    "```python\n",
    "import copy\n",
    "\n",
    "original = {'a': 1, 'b': [2, 3]}\n",
    "shallow_copied = copy.copy(original)  # or shallow_copied = original.copy()\n",
    "\n",
    "# Modify the nested list in the original\n",
    "original['b'][0] = 'changed'\n",
    "\n",
    "print(original)        # Output: {'a': 1, 'b': ['changed', 3]}\n",
    "print(shallow_copied) # Output: {'a': 1, 'b': ['changed', 3]}\n",
    "```\n",
    "\n",
    "### Deep Copy\n",
    "\n",
    "- **Definition**: A deep copy creates a new dictionary and recursively copies all nested objects, creating entirely independent copies of the objects found within the original.\n",
    "\n",
    "- **Behavior**: Changes made to nested objects in the original dictionary will not affect the deep copy since they are distinct objects.\n",
    "\n",
    "- **How to Create**: In Python, you can create a deep copy using the `copy.deepcopy()` method.\n",
    "\n",
    "#### Example:\n",
    "```python\n",
    "import copy\n",
    "\n",
    "original = {'a': 1, 'b': [2, 3]}\n",
    "deep_copied = copy.deepcopy(original)\n",
    "\n",
    "# Modify the nested list in the original\n",
    "original['b'][0] = 'changed'\n",
    "\n",
    "print(original)        # Output: {'a': 1, 'b': ['changed', 3]}\n",
    "print(deep_copied)    # Output: {'a': 1, 'b': [2, 3]}\n",
    "```\n",
    "\n",
    "### Summary\n",
    "\n",
    "- **Shallow Copy**:\n",
    "  - Creates a new dictionary.\n",
    "  - Copies references to nested objects.\n",
    "  - Changes to nested objects affect both the original and the copy.\n",
    "\n",
    "- **Deep Copy**:\n",
    "  - Creates a new dictionary.\n",
    "  - Recursively copies all nested objects.\n",
    "  - Changes to nested objects in the original do not affect the copy. \n",
    "\n",
    "Understanding these concepts is crucial when dealing with mutable objects in Python, especially when you need to maintain independence between copies."
   ]
  },
  {
   "cell_type": "markdown",
   "id": "c5d7b4fc-5a87-453e-b4df-5fc5c6ffbc4c",
   "metadata": {},
   "source": [
    "### 26 - How would you apply functions to all items in a dictionary? Can you provide a code sample?"
   ]
  },
  {
   "cell_type": "markdown",
   "id": "f86b836e-533b-4b66-82d4-a796af632319",
   "metadata": {},
   "source": [
    "#### You can apply functions to all items in a dictionary by using dictionary comprehensions or by iterating through the dictionary with a loop. Here's how you can do it:\n",
    "\n",
    "### Using Dictionary Comprehension\n",
    "\n",
    "This method is concise and allows you to create a new dictionary with the results of applying a function to each value.\n",
    "\n",
    "#### Example:\n",
    "\n",
    "```python\n",
    "# Original dictionary\n",
    "my_dict = {'a': 1, 'b': 2, 'c': 3}\n",
    "\n",
    "# Function to apply\n",
    "def square(x):\n",
    "    return x ** 2\n",
    "\n",
    "# Apply function using dictionary comprehension\n",
    "squared_dict = {key: square(value) for key, value in my_dict.items()}\n",
    "\n",
    "print(squared_dict)  # Output: {'a': 1, 'b': 4, 'c': 9}\n",
    "```\n",
    "\n",
    "### Using a Loop\n",
    "\n",
    "If you want to modify the dictionary in place or if the logic is more complex, you can use a loop.\n",
    "\n",
    "#### Example:\n",
    "\n",
    "```python\n",
    "# Original dictionary\n",
    "my_dict = {'a': 1, 'b': 2, 'c': 3}\n",
    "\n",
    "# Function to apply\n",
    "def square(x):\n",
    "    return x ** 2\n",
    "\n",
    "# Apply function using a loop\n",
    "for key in my_dict:\n",
    "    my_dict[key] = square(my_dict[key])\n",
    "\n",
    "print(my_dict)  # Output: {'a': 1, 'b': 4, 'c': 9}\n",
    "```\n",
    "\n",
    "### Summary\n",
    "\n",
    "- **Dictionary Comprehension**: Use this for creating a new dictionary with transformed values.\n",
    "- **Looping**: Use this when you want to modify the original dictionary in place.\n",
    "\n",
    "Both methods effectively allow you to apply functions to all items in a dictionary. Choose the one that best fits your needs!"
   ]
  }
 ],
 "metadata": {
  "kernelspec": {
   "display_name": "Python 3 (ipykernel)",
   "language": "python",
   "name": "python3"
  },
  "language_info": {
   "codemirror_mode": {
    "name": "ipython",
    "version": 3
   },
   "file_extension": ".py",
   "mimetype": "text/x-python",
   "name": "python",
   "nbconvert_exporter": "python",
   "pygments_lexer": "ipython3",
   "version": "3.11.5"
  },
  "widgets": {
   "application/vnd.jupyter.widget-state+json": {
    "state": {},
    "version_major": 2,
    "version_minor": 0
   }
  }
 },
 "nbformat": 4,
 "nbformat_minor": 5
}
